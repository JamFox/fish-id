{
 "cells": [
  {
   "cell_type": "code",
   "execution_count": 15,
   "id": "12817ba5-5757-4ce2-979b-74bbbe768e13",
   "metadata": {},
   "outputs": [],
   "source": [
    "from ultralytics import YOLO\n",
    "from PIL import Image"
   ]
  },
  {
   "cell_type": "code",
   "execution_count": null,
   "id": "a3b5e08b-548c-4ead-858f-3cf1b6b4ed41",
   "metadata": {},
   "outputs": [],
   "source": [
    "# global vars\n",
    "home = '/home/karl/'"
   ]
  },
  {
   "cell_type": "code",
   "execution_count": 25,
   "id": "646ba87e-c7f4-4f26-9e89-4d8ec464be17",
   "metadata": {},
   "outputs": [],
   "source": [
    "# pass any model type from n, s, m, l or x if choosing pretrained defaults\n",
    "#model = YOLO('yolov8m.pt')\n",
    "# or use custom model, if trained before\n",
    "#model = YOLO('runs/detect/train4/weights/best.pt')\n",
    "# train8 is latest trained with 3 datasets\n",
    "model = YOLO('runs/detect/train8/weights/best.pt')"
   ]
  },
  {
   "cell_type": "code",
   "execution_count": 1,
   "id": "c6ff3553-c8fb-4d51-b5cf-4c6c4a53cbc3",
   "metadata": {},
   "outputs": [
    {
     "ename": "NameError",
     "evalue": "name 'Image' is not defined",
     "output_type": "error",
     "traceback": [
      "\u001b[0;31m---------------------------------------------------------------------------\u001b[0m",
      "\u001b[0;31mNameError\u001b[0m                                 Traceback (most recent call last)",
      "Input \u001b[0;32mIn [1]\u001b[0m, in \u001b[0;36m<cell line: 1>\u001b[0;34m()\u001b[0m\n\u001b[0;32m----> 1\u001b[0m barbel \u001b[38;5;241m=\u001b[39m \u001b[43mImage\u001b[49m\u001b[38;5;241m.\u001b[39mopen(home \u001b[38;5;241m+\u001b[39m \u001b[38;5;124m\"\u001b[39m\u001b[38;5;124mbarbel.png\u001b[39m\u001b[38;5;124m\"\u001b[39m)\n\u001b[1;32m      2\u001b[0m bleak \u001b[38;5;241m=\u001b[39m Image\u001b[38;5;241m.\u001b[39mopen(home \u001b[38;5;241m+\u001b[39m \u001b[38;5;124m\"\u001b[39m\u001b[38;5;124mbleak.png\u001b[39m\u001b[38;5;124m\"\u001b[39m)\n\u001b[1;32m      3\u001b[0m random \u001b[38;5;241m=\u001b[39m home \u001b[38;5;241m+\u001b[39m \u001b[38;5;124m'\u001b[39m\u001b[38;5;124mfish-random.jpg\u001b[39m\u001b[38;5;124m'\u001b[39m\n",
      "\u001b[0;31mNameError\u001b[0m: name 'Image' is not defined"
     ]
    }
   ],
   "source": [
    "barbel = Image.open(home + \"barbel.png\")\n",
    "bleak = Image.open(home + \"bleak.png\")\n",
    "random = home + 'fish-random.jpg'\n",
    "bream_vid = home + 'intro/videos/bream/20190710_155802204.avi'\n",
    "source = bream_vid\n",
    "results = model.predict(source=source, save=True)"
   ]
  },
  {
   "cell_type": "code",
   "execution_count": null,
   "id": "bfde2953-12d3-4dda-bbc7-021f3b232493",
   "metadata": {},
   "outputs": [],
   "source": []
  }
 ],
 "metadata": {
  "kernelspec": {
   "display_name": "Python 3 (ipykernel)",
   "language": "python",
   "name": "python3"
  },
  "language_info": {
   "codemirror_mode": {
    "name": "ipython",
    "version": 3
   },
   "file_extension": ".py",
   "mimetype": "text/x-python",
   "name": "python",
   "nbconvert_exporter": "python",
   "pygments_lexer": "ipython3",
   "version": "3.10.5"
  }
 },
 "nbformat": 4,
 "nbformat_minor": 5
}
